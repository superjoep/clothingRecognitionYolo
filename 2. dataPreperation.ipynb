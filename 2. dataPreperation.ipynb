{
 "cells": [
  {
   "cell_type": "markdown",
   "metadata": {},
   "source": [
    "# Data prep using a new dataset\n",
    "since the last 2 datasets I used where way to small I needed to look for a bigger one to get the accuracy up. </br> For this I found a dataset called deepfashion, this dataset contains of over 270k images of clothing. </br>The only problem with this dataset is that it is from 2016 meaning that the structure of the data is not usable with current cnn models. </br> For this reason I took on the challenge to transform all of the data so that I can use it with YoloV11.</br>\n",
    "dataset used: https://mmlab.ie.cuhk.edu.hk/projects/DeepFashion.html"
   ]
  },
  {
   "cell_type": "markdown",
   "metadata": {},
   "source": [
    "I first import the needed libraries"
   ]
  },
  {
   "cell_type": "code",
   "execution_count": null,
   "metadata": {},
   "outputs": [],
   "source": [
    "import os\n",
    "import shutil\n",
    "import random\n",
    "import time"
   ]
  },
  {
   "cell_type": "markdown",
   "metadata": {},
   "source": [
    "I make sure the paths to all of the needed files are stored in different strings for later use"
   ]
  },
  {
   "cell_type": "code",
   "execution_count": null,
   "metadata": {},
   "outputs": [],
   "source": [
    "\n",
    "# Paths to input files\n",
    "list_eval_partition_path = \"./input_files/list_eval_partition.txt\"\n",
    "bounding_box_path = \"./input_files/list_bbox.txt\"\n",
    "categorise_path = \"./input_files/list_category_img.txt\"\n",
    "category_path = \"./input_files/list_category_cloth.txt\"\n"
   ]
  },
  {
   "cell_type": "markdown",
   "metadata": {},
   "source": [
    "I then create the new file structure where the images will be copied to"
   ]
  },
  {
   "cell_type": "code",
   "execution_count": null,
   "metadata": {},
   "outputs": [],
   "source": [
    "# Directories for YOLO data\n",
    "output_dir = \"yolo_dataset\"\n",
    "os.makedirs(output_dir, exist_ok=True)\n",
    "for partition in [\"train\", \"val\", \"test\"]:\n",
    "    os.makedirs(os.path.join(output_dir, partition, \"images\"), exist_ok=True)\n",
    "    os.makedirs(os.path.join(output_dir, partition, \"labels\"), exist_ok=True)\n"
   ]
  },
  {
   "cell_type": "markdown",
   "metadata": {},
   "source": [
    "I make sure the directory exists to prevent the code from failing "
   ]
  },
  {
   "cell_type": "code",
   "execution_count": null,
   "metadata": {},
   "outputs": [],
   "source": [
    "\n",
    "# Helper function to ensure directory exists for images\n",
    "def ensure_directory_exists(image_name):\n",
    "    # Create a subdirectory based on the image folder structure\n",
    "    folder_structure = os.path.dirname(image_name)\n",
    "    dest_dir = os.path.join(output_dir, 'train', 'images', folder_structure)\n",
    "    os.makedirs(dest_dir, exist_ok=True)\n",
    "    return dest_dir\n"
   ]
  },
  {
   "cell_type": "markdown",
   "metadata": {},
   "source": [
    "I map the category of the images to the correct image using the structure needed for yolo"
   ]
  },
  {
   "cell_type": "code",
   "execution_count": null,
   "metadata": {},
   "outputs": [],
   "source": [
    "\n",
    "# Load category mapping\n",
    "category_mapping = {}\n",
    "with open(category_path, \"r\") as f:\n",
    "    for line in f.readlines():\n",
    "        if line.strip() and not line.lower().startswith(\"category_name\"):  # Skip header\n",
    "            parts = line.strip().split(maxsplit=1)\n",
    "            if len(parts) == 2:\n",
    "                category_name, category_type = parts\n",
    "                try:\n",
    "                    category_mapping[category_name] = int(category_type)\n",
    "                except ValueError:\n",
    "                    print(f\"Invalid category type for line: {line.strip()}\")\n"
   ]
  },
  {
   "cell_type": "markdown",
   "metadata": {},
   "source": [
    "I load the evaluation document to make sure to split the data into training and validating"
   ]
  },
  {
   "cell_type": "code",
   "execution_count": null,
   "metadata": {},
   "outputs": [],
   "source": [
    "\n",
    "# Load evaluation partition\n",
    "eval_partition = {}\n",
    "with open(list_eval_partition_path, \"r\") as f:\n",
    "    for line in f.readlines():\n",
    "        if line.strip() and not line.lower().startswith(\"image_name\"):\n",
    "            parts = line.strip().split(maxsplit=1)\n",
    "            if len(parts) == 2:\n",
    "                image_name, status = parts\n",
    "                eval_partition[image_name] = status\n"
   ]
  },
  {
   "cell_type": "markdown",
   "metadata": {},
   "source": [
    "I load all of the bounding boxes from the document and store them in a method so that yolo understands"
   ]
  },
  {
   "cell_type": "code",
   "execution_count": null,
   "metadata": {},
   "outputs": [],
   "source": [
    "# Load bounding boxes\n",
    "bounding_boxes = {}\n",
    "with open(bounding_box_path, \"r\") as f:\n",
    "    for line in f.readlines():\n",
    "        if line.strip() and not line.lower().startswith(\"image_name\"):  # Skip header\n",
    "            parts = line.strip().split()\n",
    "            if len(parts) == 5:\n",
    "                image_name = parts[0]\n",
    "                try:\n",
    "                    x1, y1, x2, y2 = map(int, parts[1:])\n",
    "                    bounding_boxes[image_name] = (x1, y1, x2, y2)\n",
    "                except ValueError:\n",
    "                    print(f\"Invalid bounding box for line: {line.strip()}\")\n",
    "            else:\n",
    "                print(f\"Skipping invalid line in bounding box file: {line.strip()}\")\n"
   ]
  },
  {
   "cell_type": "code",
   "execution_count": null,
   "metadata": {},
   "outputs": [],
   "source": [
    "\n",
    "# Load image categories\n",
    "image_categories = {}\n",
    "with open(categorise_path, \"r\") as f:\n",
    "    for line in f.readlines():\n",
    "        if line.strip() and not line.lower().startswith(\"image_name\"):  # Skip header\n",
    "            parts = line.strip().split(maxsplit=1)\n",
    "            if len(parts) == 2:\n",
    "                image_name, category_label = parts\n",
    "                try:\n",
    "                    image_categories[image_name] = int(category_label)\n",
    "                except ValueError:\n",
    "                    print(f\"Invalid category label for line: {line.strip()}\")\n",
    "            else:\n",
    "                print(f\"Skipping invalid line in image category file: {line.strip()}\")\n"
   ]
  },
  {
   "cell_type": "markdown",
   "metadata": {},
   "source": [
    "I convert the all the different elements so that they can be used with yolo"
   ]
  },
  {
   "cell_type": "code",
   "execution_count": null,
   "metadata": {},
   "outputs": [],
   "source": [
    "\n",
    "# YOLO Annotation Conversion\n",
    "def convert_to_yolo_format(image_name, bbox, category_label, img_width, img_height):\n",
    "    x1, y1, x2, y2 = bbox\n",
    "    # Normalize coordinates\n",
    "    x_center = (x1 + x2) / 2.0 / img_width\n",
    "    y_center = (y1 + y2) / 2.0 / img_height\n",
    "    width = (x2 - x1) / img_width\n",
    "    height = (y2 - y1) / img_height\n",
    "    return f\"{category_label} {x_center:.6f} {y_center:.6f} {width:.6f} {height:.6f}\"\n"
   ]
  },
  {
   "cell_type": "markdown",
   "metadata": {},
   "source": [
    "I process all of the data and copy and paste it into the correct folders </br> I make sure to get the bounding box, category, and eval/train for each image."
   ]
  },
  {
   "cell_type": "code",
   "execution_count": null,
   "metadata": {},
   "outputs": [],
   "source": [
    "# Prepare YOLO dataset\n",
    "total_processed = 0\n",
    "\n",
    "for image_name, partition in eval_partition.items():\n",
    "    if image_name not in bounding_boxes or image_name not in image_categories:\n",
    "        print(f\"Skipping {image_name}: Missing bounding box or category.\")\n",
    "        continue\n",
    "\n",
    "    bbox = bounding_boxes[image_name]\n",
    "    category_label = image_categories[image_name]\n",
    "\n",
    "    # Assuming you have a function to get image dimensions\n",
    "    # Replace with actual image dimension retrieval if necessary\n",
    "    img_width, img_height = 640, 480  # Replace with actual dimensions (or get from PIL if needed)\n",
    "\n",
    "    yolo_annotation = convert_to_yolo_format(image_name, bbox, category_label, img_width, img_height)\n",
    "\n",
    "    # Determine the correct directory based on partition\n",
    "    dest_image_dir = ensure_directory_exists(image_name)\n",
    "    \n",
    "    # Check if the file exists, if it does, rename it\n",
    "    src_image_path = image_name  # Adjust if the path is different\n",
    "    dest_image_path = os.path.join(dest_image_dir, os.path.basename(image_name))\n",
    "\n",
    "    if os.path.exists(dest_image_path):\n",
    "        # Rename the file with a timestamp if it already exists\n",
    "        timestamp = str(int(time.time()))\n",
    "        dest_image_path = os.path.join(dest_image_dir, f\"{os.path.splitext(os.path.basename(image_name))[0]}_{timestamp}{os.path.splitext(image_name)[1]}\")\n",
    "        print(f\"File already exists, renaming to: {dest_image_path}\")\n",
    "    \n",
    "    try:\n",
    "        shutil.copy(src_image_path, dest_image_path)\n",
    "    except FileNotFoundError:\n",
    "        print(f\"Image file not found: {src_image_path}\")\n",
    "        continue\n",
    "\n",
    "    # Save annotation\n",
    "    label_file = os.path.join(output_dir, partition, \"labels\", os.path.basename(image_name).replace(\".jpg\", \".txt\"))\n",
    "    os.makedirs(os.path.dirname(label_file), exist_ok=True)  # Ensure label directory exists\n",
    "    with open(label_file, \"w\") as f:\n",
    "        f.write(yolo_annotation + \"\\n\")\n",
    "    \n",
    "    total_processed += 1\n",
    "\n",
    "print(f\"Total processed images: {total_processed}\")\n",
    "print(\"YOLO dataset preparation complete.\")"
   ]
  },
  {
   "cell_type": "markdown",
   "metadata": {},
   "source": [
    "I create the data.yaml that can be used later for training"
   ]
  },
  {
   "cell_type": "code",
   "execution_count": null,
   "metadata": {},
   "outputs": [],
   "source": [
    "# Create the data.yaml for YOLOv11 training\n",
    "data_yaml = f\"\"\"\n",
    "train: {os.path.join(output_dir, 'train', 'images')}\n",
    "val: {os.path.join(output_dir, 'val', 'images')}\n",
    "\n",
    "names:\n",
    "\"\"\"\n",
    "with open(category_path, \"r\") as f:\n",
    "    for line in f.readlines():\n",
    "        if line.strip() and not line.lower().startswith(\"category_name\"):\n",
    "            category_name, category_type = line.strip().split(maxsplit=1)\n",
    "            data_yaml += f\"  {category_type}: '{category_name}'\\n\"\n",
    "\n",
    "with open('data.yaml', 'w') as f:\n",
    "    f.write(data_yaml)\n",
    "\n",
    "print(\"Data.yaml for YOLOv11 created successfully.\")\n"
   ]
  }
 ],
 "metadata": {
  "kernelspec": {
   "display_name": "Python 3",
   "language": "python",
   "name": "python3"
  },
  "language_info": {
   "name": "python",
   "version": "3.12.4"
  }
 },
 "nbformat": 4,
 "nbformat_minor": 2
}
